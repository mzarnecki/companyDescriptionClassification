{
 "cells": [
  {
   "metadata": {},
   "cell_type": "markdown",
   "source": "# Industry codes classification for company descriptions with LLM and RAG ",
   "id": "f6324e303adf0138"
  },
  {
   "metadata": {
    "ExecuteTime": {
     "end_time": "2024-11-14T11:26:51.330300Z",
     "start_time": "2024-11-14T11:26:46.156289Z"
    }
   },
   "cell_type": "code",
   "source": [
    "%%capture --no-display\n",
    "!pip install langchain_community\n",
    "!pip install langchain_openai\n",
    "!pip install python-dotenv\n",
    "!pip install faiss-cpu"
   ],
   "id": "475d3c56768afa5d",
   "outputs": [],
   "execution_count": 24
  },
  {
   "metadata": {
    "ExecuteTime": {
     "end_time": "2024-11-14T11:26:51.343213Z",
     "start_time": "2024-11-14T11:26:51.335741Z"
    }
   },
   "cell_type": "code",
   "source": [
    "from langchain_community.vectorstores import FAISS\n",
    "from langchain_openai import OpenAIEmbeddings\n",
    "from dotenv import load_dotenv\n",
    "import openai\n",
    "import numpy as np\n",
    "import pandas as pd\n",
    "\n",
    "# put OPENAI_API_KEY=\"*****\" in .env file\n",
    "load_dotenv()\n",
    "\n",
    "# sample documents\n",
    "documentsDf = pd.read_csv('data/industry_guidelines.csv', quotechar='\"', header=None)\n",
    "documents = documentsDf.iloc[0].to_list()\n"
   ],
   "id": "b0fafa223bb12724",
   "outputs": [],
   "execution_count": 25
  },
  {
   "cell_type": "code",
   "id": "initial_id",
   "metadata": {
    "collapsed": true,
    "ExecuteTime": {
     "end_time": "2024-11-14T11:27:03.404782Z",
     "start_time": "2024-11-14T11:26:51.384111Z"
    }
   },
   "source": [
    "# company description to classify that will be used as query text\n",
    "query = \"\"\"\n",
    "Company is producing crop products.\n",
    "\"\"\"\n",
    "\n",
    "def get_embedding(text: str)->np.ndarray:\n",
    "    \"\"\"\n",
    "    get embeddings using OpenAI's embedding model\n",
    "    \"\"\"\n",
    "    response = openai.embeddings.create(\n",
    "        input=text,\n",
    "        model='text-embedding-ada-002'\n",
    "    )\n",
    "    embedding = response.data[0].embedding\n",
    "    return np.array(embedding, dtype='float32')\n",
    "\n",
    "# get embeddings for the documents\n",
    "document_embeddings = [(doc, get_embedding(doc)) for doc in documents]\n",
    "faiss = FAISS.from_embeddings(document_embeddings, OpenAIEmbeddings())\n"
   ],
   "outputs": [],
   "execution_count": 26
  },
  {
   "metadata": {
    "ExecuteTime": {
     "end_time": "2024-11-14T11:27:03.718061Z",
     "start_time": "2024-11-14T11:27:03.417173Z"
    }
   },
   "cell_type": "code",
   "source": [
    "# retrieve top_k similar documents using cosine similarity score\n",
    "retriever = faiss.as_retriever(search_type='similarity', search_kwargs={\"k\": 3})\n",
    "selected_documents= retriever.invoke(query)\n"
   ],
   "id": "33b657dfbab6ea61",
   "outputs": [],
   "execution_count": 27
  },
  {
   "metadata": {
    "ExecuteTime": {
     "end_time": "2024-11-14T11:27:05.021814Z",
     "start_time": "2024-11-14T11:27:03.728702Z"
    }
   },
   "cell_type": "code",
   "source": [
    "# prepare the prompt for GPT-4\n",
    "system_prompt = \"\"\"\n",
    "    You are a helpful AI assistant with access to descriptions of German industry codes and a set of information\n",
    "    about the company. Based on the provided information, your role is to match German industry codes to the data provided.\n",
    "    Do not infer or guess information that is not explicitly stated in the provided information.\n",
    "\n",
    "    PROVIDE ONLY THE MAIN_CODE AND OTHER_CODES KEYS WITH THEIR RESPECTIVE VALUES; NEVER INCLUDE ANY EXPLANATION\n",
    "    OR CONTEXT IN THE OUTPUT\n",
    "    \n",
    "    the example output should be:\n",
    "    'main_code': '11.11.1'\n",
    "    'other_codes': [22.22.2, 33.33.3]\n",
    "\"\"\"\n",
    "user_prompt = f\"\"\"\n",
    "    Below you can find description of the data for the company:\n",
    "    {query}\\n\\n\n",
    "    Here are the descriptions of German industry codes (Klassifikation der Wirtschaftszweige, Ausgabe 2008).\n",
    "    Base your answers only on the codes provided below; do not use any other codes apart from those below:\\n\n",
    "\"\"\"\n",
    "for idx, doc in enumerate(selected_documents):\n",
    "    user_prompt += f\"Example {idx+1}: {doc}\\n\"\n",
    "\n",
    "# call GPT-4 API for classification results\n",
    "response = openai.OpenAI().chat.completions.create(\n",
    "    model=\"gpt-4\",\n",
    "    messages=[\n",
    "        {\"role\": \"system\", \"content\": system_prompt},\n",
    "        {\"role\": \"user\", \"content\": user_prompt}\n",
    "    ]\n",
    ")\n",
    "\n",
    "# output the classification result\n",
    "print(\"Classification Result:\")\n",
    "print(response.choices[0].message.content)\n",
    "\n",
    "print(\"SYSTEM PROMPT\")\n",
    "print(system_prompt)\n",
    "\n",
    "print(\"USER PROMPT\")\n",
    "print(user_prompt)"
   ],
   "id": "d5de878b94c67b99",
   "outputs": [
    {
     "name": "stdout",
     "output_type": "stream",
     "text": [
      "Classification Result:\n",
      "'main_code': '01',\n",
      "'other_codes': []\n",
      "SYSTEM PROMPT\n",
      "\n",
      "    You are a helpful AI assistant with access to descriptions of German industry codes and a set of information\n",
      "    about the company. Based on the provided information, your role is to match German industry codes to the data provided.\n",
      "    Do not infer or guess information that is not explicitly stated in the provided information.\n",
      "\n",
      "    PROVIDE ONLY THE MAIN_CODE AND OTHER_CODES KEYS WITH THEIR RESPECTIVE VALUES; NEVER INCLUDE ANY EXPLANATION\n",
      "    OR CONTEXT IN THE OUTPUT\n",
      "    \n",
      "    the example output should be:\n",
      "    'main_code': '11.11.1'\n",
      "    'other_codes': [22.22.2, 33.33.3]\n",
      "\n",
      "USER PROMPT\n",
      "\n",
      "    Below you can find description of the data for the company:\n",
      "    \n",
      "Company is producing crop products.\n",
      "\n",
      "\n",
      "\n",
      "    Here are the descriptions of German industry codes (Klassifikation der Wirtschaftszweige, Ausgabe 2008).\n",
      "    Base your answers only on the codes provided below; do not use any other codes apart from those below:\n",
      "\n",
      "Example 1: page_content='Industry: 01\n",
      "\n",
      "covers the two activities of production of crop products and production of animal products. It also includes organic farming and the cultivation of genetically modified crops and the keeping of genetically modified livestock.\n",
      "\n",
      "covers both open-air and greenhouse farming.\n",
      "\n",
      "It also includes the preparation of agricultural products for the commodity markets.\n",
      "\n",
      "This division also includes the provision of services related to agriculture and commercial hunting, as well as trapping and related activities.\n",
      "\n",
      "Group 01.5 (Mixed farming) is an exception to the basic rules for determining the main activity. It is assumed that many farms have a balance between crop and animal production and it would be arbitrary to classify them in one category or the other. does not include:\n",
      "- processing of agricultural products other than preparation for the raw material markets (see divisions 10 and 12)\n",
      "- creation of fields (e.g. terracing and drainage of agricultural land, creation of rice fields, etc.) (see section F)\n",
      "- purchasing associations and agricultural marketing cooperatives (see section G)\n",
      "- horticulture and landscaping (see 81.30.1)\n",
      "\n",
      "exclusions:\n",
      "False Keywords:\n",
      "- F: construction\n",
      "- G: trade; maintenance and repair of motor vehicles and motorcycles\n",
      "- 10: manufacture of foodstuffs\n",
      "- 12: tobacco processing\n",
      "- 81.30.1: horticulture and landscaping\n",
      "Processing of agricultural products other than preparation for the raw material markets (see divisions 10 and 12)\n",
      "Field preparation (e.g. terracing and drainage of agricultural land, rice paddies, etc.) (see section F)\n",
      "Purchasing associations and agricultural marketing cooperatives (see section G)\n",
      "Gardening and landscaping (see 81.30.1)\n",
      "F: Construction\n",
      "G: Trade; repair of motor vehicles and motorcycles\n",
      "10: Manufacture of foodstuffs\n",
      "12: Manufacture of tobacco products\n",
      "81.30.1: Gardening and landscaping\n",
      "\n",
      "inclusions:\n",
      "covers the two activities of production of crop products and production of animal products. It also includes organic farming and the cultivation of genetically modified crops and the rearing of genetically modified livestock. covers both open-air and greenhouse farming. It also includes the preparation of agricultural products for the commodity markets.Also included in this division are the provision of services related to agriculture and commercial hunting, as well as trapping and related activities.Group 01.5 (Mixed farming) is an exception to the basic rules for determining the main activity. It is assumed that many farms have a balance between crop and animal production and it would be arbitrary to classify them in one category or the other.'\n",
      "Example 2: page_content='Industry: 01.19.1\n",
      "  includes:- Growing flowers, producing cut flowers and flower buds\n",
      "  Keywords:\n",
      "  - Flower and plant arranging (not flower trade)\n",
      "  - Flowers, cultivation\n",
      "  - Flower arranging (not flower trade)\n",
      "  - Flower arrangements, production\n",
      "  - Flower cultivation\n",
      "  - Flower bulbs, cultivation\n",
      "  - Commercial horticulture (ornamental plant cultivation)\n",
      "  - Floral design (production of flower arrangements from ornamental plants)\n",
      "  - Horticulture (ornamental plant cultivation)\n",
      "  - Arrangements from dried flowers, production\n",
      "  - Young plants (ornamental plants), cultivation\n",
      "  - Wreath making (not flower trade)\n",
      "  - Wreaths made from flowers, production\n",
      "  - Cut flowers, cultivation\n",
      "  - Cut greenery, cultivation\n",
      "  - Potted plants (annuals), cultivation\n",
      "  - Funeral arranging (not flower trade)\n",
      "  - Dried flower arrangements, production\n",
      "  - Ornamental plants (annuals; not ornamental shrubs), production\n",
      "  - Bulbs of flowers, production\n",
      "\n",
      "  does not include:\n",
      "  - Growing annual spice plants, plants for aromatic, narcotic and pharmaceutical purposes (see 01.28.0)\n",
      "\n",
      "  Wrong Keywords:\n",
      "  - 01.28.0: Cultivation of spice plants, plants for aromatic, narcotic and pharmaceutical purposes'\n",
      "Example 3: page_content='Industry: 56.21.0\n",
      "  includes:- contractual catering services for a specific occasion at a location specified by the customer\n",
      "  Keywords:\n",
      "  - caterers (event catering)\n",
      "  - event caterers\n",
      "  - breakfast service (event catering)\n",
      "  - hospitality (event catering, party service)\n",
      "  - chef services\n",
      "  - party service (home delivery service) for drinks and food\n",
      "  - pizza delivery service (event catering, party service)\n",
      "\n",
      "  does not include:\n",
      "  - manufacture of non-perishable foodstuffs intended for resale (see 10.89.0)\n",
      "  - retail sale of non-perishable foodstuffs (see division 47)\n",
      "\n",
      "  False Keywords:\n",
      "  - 47: retail trade (excluding sale of motor vehicles)\n",
      "  - 10.89.0: manufacture of other foodstuffs n.e.c.'\n",
      "\n"
     ]
    }
   ],
   "execution_count": 28
  }
 ],
 "metadata": {
  "kernelspec": {
   "display_name": "Python 3",
   "language": "python",
   "name": "python3"
  },
  "language_info": {
   "codemirror_mode": {
    "name": "ipython",
    "version": 2
   },
   "file_extension": ".py",
   "mimetype": "text/x-python",
   "name": "python",
   "nbconvert_exporter": "python",
   "pygments_lexer": "ipython2",
   "version": "2.7.6"
  }
 },
 "nbformat": 4,
 "nbformat_minor": 5
}
